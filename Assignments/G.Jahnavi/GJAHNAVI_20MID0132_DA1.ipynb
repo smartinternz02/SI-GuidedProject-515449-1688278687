{
  "nbformat": 4,
  "nbformat_minor": 0,
  "metadata": {
    "colab": {
      "provenance": []
    },
    "kernelspec": {
      "name": "python3",
      "display_name": "Python 3"
    },
    "language_info": {
      "name": "python"
    }
  },
  "cells": [
    {
      "cell_type": "markdown",
      "source": [
        "JAHNAVI.G\n",
        "REG NO : 20MID0132\n",
        "Campus : VIT VELLORE"
      ],
      "metadata": {
        "id": "JAnyMskhop8F"
      }
    },
    {
      "cell_type": "code",
      "execution_count": null,
      "metadata": {
        "colab": {
          "base_uri": "https://localhost:8080/"
        },
        "id": "NaotFyfPbMIY",
        "outputId": "8a4f9be7-3ca2-4b18-cc31-2234818fee8e"
      },
      "outputs": [
        {
          "output_type": "stream",
          "name": "stdout",
          "text": [
            "               Feature 1  Feature 2  Feature 3  Feature 4\n",
            "Observation 1   0.982235   0.976598   0.767533   0.257475\n",
            "Observation 2   0.132698   0.142458   0.354905   0.845419\n",
            "Observation 3   0.188737   0.625658   0.149182   0.513790\n",
            "Observation 4   0.797110   0.263816   0.826220   0.955239\n"
          ]
        }
      ],
      "source": [
        "import numpy as np\n",
        "import pandas as pd\n",
        "#generatung random values\n",
        "d = np.random.rand(4, 4)\n",
        "# Creating a DataFrame\n",
        "df = pd.DataFrame(d, columns=['Feature 1', 'Feature 2', 'Feature 3', 'Feature 4'], index =['Observation 1','Observation 2','Observation 3','Observation 4'])\n",
        "# Print the DataFrame\n",
        "print(df)\n"
      ]
    },
    {
      "cell_type": "code",
      "source": [
        "import numpy as np\n",
        "import pandas as pd\n",
        "#Renaming Columns\n",
        "df = df.rename(columns = {'Feature 1' : 'Random Value 1',\n",
        " 'Feature 2' : 'Random Value 2',\n",
        "'Feature 3' : 'Random Value 3',\n",
        "'Feature 4' : 'Random Value 4'})\n",
        "# Print the DataFrame\n",
        "print(df)\n",
        "\n"
      ],
      "metadata": {
        "colab": {
          "base_uri": "https://localhost:8080/"
        },
        "id": "1PP29MJXb8EJ",
        "outputId": "39c306c0-2002-48ce-879b-e1aa0a95b402"
      },
      "execution_count": null,
      "outputs": [
        {
          "output_type": "stream",
          "name": "stdout",
          "text": [
            "               Random Value 1  Random Value 2  Random Value 3  Random Value 4\n",
            "Observation 1        0.982235        0.976598        0.767533        0.257475\n",
            "Observation 2        0.132698        0.142458        0.354905        0.845419\n",
            "Observation 3        0.188737        0.625658        0.149182        0.513790\n",
            "Observation 4        0.797110        0.263816        0.826220        0.955239\n"
          ]
        }
      ]
    },
    {
      "cell_type": "code",
      "source": [
        "import numpy as np\n",
        "import pandas as pd\n",
        "#To describe the Statistical Description\n",
        "stat = df.describe()\n",
        "# Print the DataFrame\n",
        "print(df)\n",
        "print('\\n')\n",
        "print(stat)\n"
      ],
      "metadata": {
        "colab": {
          "base_uri": "https://localhost:8080/"
        },
        "id": "-o-88g6OcQDq",
        "outputId": "2bce29b0-54fb-4ada-d2f2-7b50dcea5a18"
      },
      "execution_count": null,
      "outputs": [
        {
          "output_type": "stream",
          "name": "stdout",
          "text": [
            "               Random Value 1  Random Value 2  Random Value 3  Random Value 4\n",
            "Observation 1        0.982235        0.976598        0.767533        0.257475\n",
            "Observation 2        0.132698        0.142458        0.354905        0.845419\n",
            "Observation 3        0.188737        0.625658        0.149182        0.513790\n",
            "Observation 4        0.797110        0.263816        0.826220        0.955239\n",
            "\n",
            "\n",
            "       Random Value 1  Random Value 2  Random Value 3  Random Value 4\n",
            "count        4.000000        4.000000        4.000000        4.000000\n",
            "mean         0.525195        0.502132        0.524460        0.642981\n",
            "std          0.428206        0.377066        0.326459        0.318220\n",
            "min          0.132698        0.142458        0.149182        0.257475\n",
            "25%          0.174727        0.233476        0.303474        0.449712\n",
            "50%          0.492924        0.444737        0.561219        0.679605\n",
            "75%          0.843391        0.713393        0.782205        0.872874\n",
            "max          0.982235        0.976598        0.826220        0.955239\n"
          ]
        }
      ]
    },
    {
      "cell_type": "code",
      "source": [
        "import numpy as np\n",
        "import pandas as pd\n",
        "#Checking NULL values\n",
        "null_val = df.isnull().sum()\n",
        "#Checking the Data types\n",
        "data_type = df.dtypes\n",
        "# Print the DataFrame\n",
        "print(null_val)\n",
        "print('\\n')\n",
        "print(data_type)"
      ],
      "metadata": {
        "colab": {
          "base_uri": "https://localhost:8080/"
        },
        "id": "xgJPVNgEcb6P",
        "outputId": "fcd69ee0-69a3-4c6e-8251-f28052143ad1"
      },
      "execution_count": null,
      "outputs": [
        {
          "output_type": "stream",
          "name": "stdout",
          "text": [
            "Random Value 1    0\n",
            "Random Value 2    0\n",
            "Random Value 3    0\n",
            "Random Value 4    0\n",
            "dtype: int64\n",
            "\n",
            "\n",
            "Random Value 1    float64\n",
            "Random Value 2    float64\n",
            "Random Value 3    float64\n",
            "Random Value 4    float64\n",
            "dtype: object\n"
          ]
        }
      ]
    },
    {
      "cell_type": "code",
      "source": [
        "import numpy as np\n",
        "import pandas as pd\n",
        "# Display columns using the location method\n",
        "location_method = df[['Random Value 2', 'Random Value 3']]\n",
        "print(\"Columns using location method:\")\n",
        "print(location_method)\n",
        "# Display columns using the index location method\n",
        "index_location_method = df.iloc[:, 1:3]\n",
        "print(\"\\nColumns using index location method :\")\n",
        "print(index_location_method)"
      ],
      "metadata": {
        "colab": {
          "base_uri": "https://localhost:8080/"
        },
        "id": "jbRiv65icsB5",
        "outputId": "f64d3fe3-f887-41a2-ba44-4f877e09dc73"
      },
      "execution_count": null,
      "outputs": [
        {
          "output_type": "stream",
          "name": "stdout",
          "text": [
            "Columns using location method:\n",
            "               Random Value 2  Random Value 3\n",
            "Observation 1        0.976598        0.767533\n",
            "Observation 2        0.142458        0.354905\n",
            "Observation 3        0.625658        0.149182\n",
            "Observation 4        0.263816        0.826220\n",
            "\n",
            "Columns using index location method :\n",
            "               Random Value 2  Random Value 3\n",
            "Observation 1        0.976598        0.767533\n",
            "Observation 2        0.142458        0.354905\n",
            "Observation 3        0.625658        0.149182\n",
            "Observation 4        0.263816        0.826220\n"
          ]
        }
      ]
    }
  ]
}