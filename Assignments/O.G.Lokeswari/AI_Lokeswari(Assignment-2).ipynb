{
  "cells": [
    {
      "cell_type": "markdown",
      "metadata": {
        "id": "6F_vzV610miE"
      },
      "source": [
        "\n",
        "<center>\n",
        "<table>\n",
        "  <tr>\n",
        "    <td><img src=\"http://www.nasa.gov/sites/all/themes/custom/nasatwo/images/nasa-logo.svg\" width=\"100\"/> </td>\n",
        "     <td><img src=\"https://github.com/astg606/py_materials/blob/master/logos/ASTG_logo.png?raw=true\" width=\"80\"/> </td>\n",
        "     <td> <img src=\"https://www.nccs.nasa.gov/sites/default/files/NCCS_Logo_0.png\" width=\"130\"/> </td>\n",
        "    </tr>\n",
        "</table>\n",
        "</center>\n",
        "\n",
        "        \n",
        "<center>\n",
        "<h1><font color= \"blue\" size=\"+3\">ASTG Python Courses</font></h1>\n",
        "</center>\n",
        "\n",
        "\n",
        "---\n",
        "\n",
        "<center><h1>\n",
        "    <font color=\"red\" size=\"+2\">Running Python</font>  \n",
        "</h1></center>"
      ]
    },
    {
      "cell_type": "code",
      "source": [
        "from google.colab import drive\n",
        "drive.mount('/content/drive')"
      ],
      "metadata": {
        "colab": {
          "base_uri": "https://localhost:8080/"
        },
        "id": "JvbdZSWy0oRr",
        "outputId": "5b87a668-2780-4daa-886c-5fe742eeaf9c"
      },
      "execution_count": 1,
      "outputs": [
        {
          "output_type": "stream",
          "name": "stdout",
          "text": [
            "Mounted at /content/drive\n"
          ]
        }
      ]
    },
    {
      "cell_type": "code",
      "source": [
        "import numpy as np\n",
        "import pandas as pd\n",
        "import seaborn as sns\n",
        "import matplotlib.pyplot as plt\n",
        "import plotly.express as px\n",
        "import warnings\n",
        "warnings.filterwarnings('ignore')\n",
        "from sklearn.model_selection import train_test_split\n",
        "from keras.models import Sequential\n",
        "from keras.layers import Dense,Activation\n",
        "\n",
        "#Task 1: Data Pre-processing\n",
        "# Read the dataset\n",
        "df = pd.read_csv('/python-apt/python/drug200.csv')\n",
        "# Perform data pre-processing\n",
        "df.isnull().any()\n",
        "df.isnull().sum()\n",
        "print(df.head())\n",
        "\n",
        "\n",
        "\n",
        "\n",
        "\n",
        "\n",
        "\n",
        "\n",
        "\n",
        "\n"
      ],
      "metadata": {
        "colab": {
          "base_uri": "https://localhost:8080/"
        },
        "id": "rIEMXahH0pGE",
        "outputId": "ee8c83f4-2be9-4ff2-9558-b8b1f4346ce4"
      },
      "execution_count": 3,
      "outputs": [
        {
          "output_type": "stream",
          "name": "stdout",
          "text": [
            "   Age Sex      BP Cholesterol  Na_to_K   Drug\n",
            "0   23   F    HIGH        HIGH   25.355  DrugY\n",
            "1   47   M     LOW        HIGH   13.093  drugC\n",
            "2   47   M     LOW        HIGH   10.114  drugC\n",
            "3   28   F  NORMAL        HIGH    7.798  drugX\n",
            "4   61   F     LOW        HIGH   18.043  DrugY\n"
          ]
        }
      ]
    },
    {
      "cell_type": "code",
      "source": [
        "df.describe(include = 'all')"
      ],
      "metadata": {
        "colab": {
          "base_uri": "https://localhost:8080/",
          "height": 394
        },
        "id": "qPjJBk_y0pVy",
        "outputId": "63a58bab-cdd0-490e-dfaf-d54d41e4bf69"
      },
      "execution_count": 4,
      "outputs": [
        {
          "output_type": "execute_result",
          "data": {
            "text/plain": [
              "               Age  Sex    BP Cholesterol     Na_to_K   Drug\n",
              "count   200.000000  200   200         200  200.000000    200\n",
              "unique         NaN    2     3           2         NaN      5\n",
              "top            NaN    M  HIGH        HIGH         NaN  DrugY\n",
              "freq           NaN  104    77         103         NaN     91\n",
              "mean     44.315000  NaN   NaN         NaN   16.084485    NaN\n",
              "std      16.544315  NaN   NaN         NaN    7.223956    NaN\n",
              "min      15.000000  NaN   NaN         NaN    6.269000    NaN\n",
              "25%      31.000000  NaN   NaN         NaN   10.445500    NaN\n",
              "50%      45.000000  NaN   NaN         NaN   13.936500    NaN\n",
              "75%      58.000000  NaN   NaN         NaN   19.380000    NaN\n",
              "max      74.000000  NaN   NaN         NaN   38.247000    NaN"
            ],
            "text/html": [
              "\n",
              "  <div id=\"df-a57c1958-212e-4819-bef4-b1a9476035d4\">\n",
              "    <div class=\"colab-df-container\">\n",
              "      <div>\n",
              "<style scoped>\n",
              "    .dataframe tbody tr th:only-of-type {\n",
              "        vertical-align: middle;\n",
              "    }\n",
              "\n",
              "    .dataframe tbody tr th {\n",
              "        vertical-align: top;\n",
              "    }\n",
              "\n",
              "    .dataframe thead th {\n",
              "        text-align: right;\n",
              "    }\n",
              "</style>\n",
              "<table border=\"1\" class=\"dataframe\">\n",
              "  <thead>\n",
              "    <tr style=\"text-align: right;\">\n",
              "      <th></th>\n",
              "      <th>Age</th>\n",
              "      <th>Sex</th>\n",
              "      <th>BP</th>\n",
              "      <th>Cholesterol</th>\n",
              "      <th>Na_to_K</th>\n",
              "      <th>Drug</th>\n",
              "    </tr>\n",
              "  </thead>\n",
              "  <tbody>\n",
              "    <tr>\n",
              "      <th>count</th>\n",
              "      <td>200.000000</td>\n",
              "      <td>200</td>\n",
              "      <td>200</td>\n",
              "      <td>200</td>\n",
              "      <td>200.000000</td>\n",
              "      <td>200</td>\n",
              "    </tr>\n",
              "    <tr>\n",
              "      <th>unique</th>\n",
              "      <td>NaN</td>\n",
              "      <td>2</td>\n",
              "      <td>3</td>\n",
              "      <td>2</td>\n",
              "      <td>NaN</td>\n",
              "      <td>5</td>\n",
              "    </tr>\n",
              "    <tr>\n",
              "      <th>top</th>\n",
              "      <td>NaN</td>\n",
              "      <td>M</td>\n",
              "      <td>HIGH</td>\n",
              "      <td>HIGH</td>\n",
              "      <td>NaN</td>\n",
              "      <td>DrugY</td>\n",
              "    </tr>\n",
              "    <tr>\n",
              "      <th>freq</th>\n",
              "      <td>NaN</td>\n",
              "      <td>104</td>\n",
              "      <td>77</td>\n",
              "      <td>103</td>\n",
              "      <td>NaN</td>\n",
              "      <td>91</td>\n",
              "    </tr>\n",
              "    <tr>\n",
              "      <th>mean</th>\n",
              "      <td>44.315000</td>\n",
              "      <td>NaN</td>\n",
              "      <td>NaN</td>\n",
              "      <td>NaN</td>\n",
              "      <td>16.084485</td>\n",
              "      <td>NaN</td>\n",
              "    </tr>\n",
              "    <tr>\n",
              "      <th>std</th>\n",
              "      <td>16.544315</td>\n",
              "      <td>NaN</td>\n",
              "      <td>NaN</td>\n",
              "      <td>NaN</td>\n",
              "      <td>7.223956</td>\n",
              "      <td>NaN</td>\n",
              "    </tr>\n",
              "    <tr>\n",
              "      <th>min</th>\n",
              "      <td>15.000000</td>\n",
              "      <td>NaN</td>\n",
              "      <td>NaN</td>\n",
              "      <td>NaN</td>\n",
              "      <td>6.269000</td>\n",
              "      <td>NaN</td>\n",
              "    </tr>\n",
              "    <tr>\n",
              "      <th>25%</th>\n",
              "      <td>31.000000</td>\n",
              "      <td>NaN</td>\n",
              "      <td>NaN</td>\n",
              "      <td>NaN</td>\n",
              "      <td>10.445500</td>\n",
              "      <td>NaN</td>\n",
              "    </tr>\n",
              "    <tr>\n",
              "      <th>50%</th>\n",
              "      <td>45.000000</td>\n",
              "      <td>NaN</td>\n",
              "      <td>NaN</td>\n",
              "      <td>NaN</td>\n",
              "      <td>13.936500</td>\n",
              "      <td>NaN</td>\n",
              "    </tr>\n",
              "    <tr>\n",
              "      <th>75%</th>\n",
              "      <td>58.000000</td>\n",
              "      <td>NaN</td>\n",
              "      <td>NaN</td>\n",
              "      <td>NaN</td>\n",
              "      <td>19.380000</td>\n",
              "      <td>NaN</td>\n",
              "    </tr>\n",
              "    <tr>\n",
              "      <th>max</th>\n",
              "      <td>74.000000</td>\n",
              "      <td>NaN</td>\n",
              "      <td>NaN</td>\n",
              "      <td>NaN</td>\n",
              "      <td>38.247000</td>\n",
              "      <td>NaN</td>\n",
              "    </tr>\n",
              "  </tbody>\n",
              "</table>\n",
              "</div>\n",
              "      <button class=\"colab-df-convert\" onclick=\"convertToInteractive('df-a57c1958-212e-4819-bef4-b1a9476035d4')\"\n",
              "              title=\"Convert this dataframe to an interactive table.\"\n",
              "              style=\"display:none;\">\n",
              "        \n",
              "  <svg xmlns=\"http://www.w3.org/2000/svg\" height=\"24px\"viewBox=\"0 0 24 24\"\n",
              "       width=\"24px\">\n",
              "    <path d=\"M0 0h24v24H0V0z\" fill=\"none\"/>\n",
              "    <path d=\"M18.56 5.44l.94 2.06.94-2.06 2.06-.94-2.06-.94-.94-2.06-.94 2.06-2.06.94zm-11 1L8.5 8.5l.94-2.06 2.06-.94-2.06-.94L8.5 2.5l-.94 2.06-2.06.94zm10 10l.94 2.06.94-2.06 2.06-.94-2.06-.94-.94-2.06-.94 2.06-2.06.94z\"/><path d=\"M17.41 7.96l-1.37-1.37c-.4-.4-.92-.59-1.43-.59-.52 0-1.04.2-1.43.59L10.3 9.45l-7.72 7.72c-.78.78-.78 2.05 0 2.83L4 21.41c.39.39.9.59 1.41.59.51 0 1.02-.2 1.41-.59l7.78-7.78 2.81-2.81c.8-.78.8-2.07 0-2.86zM5.41 20L4 18.59l7.72-7.72 1.47 1.35L5.41 20z\"/>\n",
              "  </svg>\n",
              "      </button>\n",
              "      \n",
              "  <style>\n",
              "    .colab-df-container {\n",
              "      display:flex;\n",
              "      flex-wrap:wrap;\n",
              "      gap: 12px;\n",
              "    }\n",
              "\n",
              "    .colab-df-convert {\n",
              "      background-color: #E8F0FE;\n",
              "      border: none;\n",
              "      border-radius: 50%;\n",
              "      cursor: pointer;\n",
              "      display: none;\n",
              "      fill: #1967D2;\n",
              "      height: 32px;\n",
              "      padding: 0 0 0 0;\n",
              "      width: 32px;\n",
              "    }\n",
              "\n",
              "    .colab-df-convert:hover {\n",
              "      background-color: #E2EBFA;\n",
              "      box-shadow: 0px 1px 2px rgba(60, 64, 67, 0.3), 0px 1px 3px 1px rgba(60, 64, 67, 0.15);\n",
              "      fill: #174EA6;\n",
              "    }\n",
              "\n",
              "    [theme=dark] .colab-df-convert {\n",
              "      background-color: #3B4455;\n",
              "      fill: #D2E3FC;\n",
              "    }\n",
              "\n",
              "    [theme=dark] .colab-df-convert:hover {\n",
              "      background-color: #434B5C;\n",
              "      box-shadow: 0px 1px 3px 1px rgba(0, 0, 0, 0.15);\n",
              "      filter: drop-shadow(0px 1px 2px rgba(0, 0, 0, 0.3));\n",
              "      fill: #FFFFFF;\n",
              "    }\n",
              "  </style>\n",
              "\n",
              "      <script>\n",
              "        const buttonEl =\n",
              "          document.querySelector('#df-a57c1958-212e-4819-bef4-b1a9476035d4 button.colab-df-convert');\n",
              "        buttonEl.style.display =\n",
              "          google.colab.kernel.accessAllowed ? 'block' : 'none';\n",
              "\n",
              "        async function convertToInteractive(key) {\n",
              "          const element = document.querySelector('#df-a57c1958-212e-4819-bef4-b1a9476035d4');\n",
              "          const dataTable =\n",
              "            await google.colab.kernel.invokeFunction('convertToInteractive',\n",
              "                                                     [key], {});\n",
              "          if (!dataTable) return;\n",
              "\n",
              "          const docLinkHtml = 'Like what you see? Visit the ' +\n",
              "            '<a target=\"_blank\" href=https://colab.research.google.com/notebooks/data_table.ipynb>data table notebook</a>'\n",
              "            + ' to learn more about interactive tables.';\n",
              "          element.innerHTML = '';\n",
              "          dataTable['output_type'] = 'display_data';\n",
              "          await google.colab.output.renderOutput(dataTable, element);\n",
              "          const docLink = document.createElement('div');\n",
              "          docLink.innerHTML = docLinkHtml;\n",
              "          element.appendChild(docLink);\n",
              "        }\n",
              "      </script>\n",
              "    </div>\n",
              "  </div>\n",
              "  "
            ]
          },
          "metadata": {},
          "execution_count": 4
        }
      ]
    },
    {
      "cell_type": "markdown",
      "metadata": {
        "id": "sd0KvRug0miG"
      },
      "source": [
        "# <font color='blue'>Why Learn Python?</font>\n",
        "\n",
        "---\n",
        "\n",
        "* Is a free and open-source.\n",
        "* Is a high-level and interpreted general purpose programming language.\n",
        "* Its simple syntax makes it suitable for learning programming as a first language.\n",
        "* Has a very extensive standard library and over 150,000 external libraries.\n",
        "* Is portable and extensible. It interoprate with other languages such as Fortran, C, C++, Java,...\n",
        "* Has a large community.\n",
        "\n",
        "**Benefits of Learning Python**\n",
        "\n",
        "![fig_python](https://static.javatpoint.com/interview/images/advantages-of-python.png)\n",
        "Image Source: www.javatpoint.com\n",
        "\n",
        "Python finds applications in areas such as:\n",
        "\n",
        "+ Web Programming\n",
        "+ Data Science\n",
        "+ Machine Learning and Artificial Intelligence\n",
        "+ Scripting & Automation\n",
        "+ Games\n",
        "+ Desktop GUI applications\n",
        "+ Database access\n",
        "          \n",
        "![fig_python](https://hackernoon.com/hn-images/1*jVKTE1dd8CVv4WEtcidCPA.png)"
      ]
    },
    {
      "cell_type": "markdown",
      "metadata": {
        "id": "4jxVGhpF0miH"
      },
      "source": [
        "# <font color='blue'> Python Versions</font>\n",
        "\n",
        "----\n",
        "\n",
        "Python has two major versions:\n",
        "\n",
        "+ **2.x**: Released in 2000. The latest version is 2.7 released in 2010. It is not recommended for use in new projects.\n",
        "+ **3.x**: Released in 2008 to fix problems that exist in Python 2.x. \n",
        "   - The nature of these changes is such that Python 3 was incompatible with Python 2. It is backward incompatible.\n",
        "   - Python 3 isn’t compatible with Python 2. \n",
        "   - You should use the latest versions of Python 3 for your new projects.\n",
        "\n",
        "**For this class, we will use Python 3.x.**"
      ]
    },
    {
      "cell_type": "markdown",
      "metadata": {
        "id": "_7gQsEpp0miI"
      },
      "source": [
        "# <font color='blue'>Four Ways to Run Python</font>\n",
        "\n",
        "---\n",
        "\n",
        "* Interactive Command Line through `python`\n",
        "* Interactive Command Line through `ipython`\n",
        "* Scripting\n",
        "* Jupyter Notebook\n"
      ]
    },
    {
      "cell_type": "markdown",
      "metadata": {
        "id": "5HjdEjMj0miI"
      },
      "source": [
        "You first need to make sure that Python is install on your system. \n",
        "With Linux/Unix systems, a default Python interpreter comes with the operating system. To test this, from the terminal type:\n",
        "\n",
        "`which python`\n",
        "\n",
        "and you will see something like:\n",
        "\n",
        "`/usr/bin/python`\n"
      ]
    },
    {
      "cell_type": "markdown",
      "metadata": {
        "id": "_FSO8kjj0miI"
      },
      "source": [
        "### <font color='red'> Interactive Command Line through `python` </font>\n",
        "\n",
        "---\n",
        "\n",
        "* You can use the interpreter in the interactive mode to test some commands.\n",
        "* You need to type `python` from the command line.\n",
        "* You can directly type in Python code, and press `Enter` to get the output.\n",
        "* You can exit the interactive mode with `quit()` or `exit` command or `^Ctrl + D`.\n",
        "* The sequence you enter will not be saved if you close the current session."
      ]
    },
    {
      "cell_type": "markdown",
      "metadata": {
        "id": "b3I1muSX0miI"
      },
      "source": [
        "**Sample Session**\n",
        "\n",
        "1. Open your terminal/Anaconda prompt and type:\n",
        "\n",
        "`python`\n",
        "\n",
        "\n",
        "2. From this interactive shell, you will notice that the prompt is `>>>`. This is now allowing us to type Python code directly and execute it.\n",
        "\n",
        "3. Now type:\n",
        "\n",
        "`print('Hello world!')`\n",
        "\n",
        "4. You should see the output on the screen. \n",
        "\n",
        "5. To exit the Python shell type `exit()` and press `Return` key.\n",
        "\n"
      ]
    },
    {
      "cell_type": "markdown",
      "metadata": {
        "id": "6tbqlPFD0miJ"
      },
      "source": [
        "### <font color='red'>Interactive Command Line through `ipython` </font>\n",
        "\n",
        "---\n",
        "* IPython is an interactive shell for the Python programming language that offers enhanced introspection, additional shell syntax, tab completion and rich history.\n",
        "* It does not come by default with Python.\n",
        "* IPython gives you all that you get in the basic interpreter but with a lot extra (line numbers, advanced editing, more functions, help functions etc).\n",
        "* It can be started by typing `ipython` at the command line.\n",
        "* The main aesthetic difference between the Python interpreter and the enhanced IPython interpreter lies in the command prompt: Python uses `>>>` by default, while IPython uses numbered commands (e.g. `In [1]:`). "
      ]
    },
    {
      "cell_type": "markdown",
      "metadata": {
        "id": "7kU-6eon0miJ"
      },
      "source": [
        "**Sample Session**\n",
        "\n",
        "1. Open your terminal/Anaconda prompt and type:\n",
        "\n",
        "`ipython`\n",
        "\n",
        "2. This is an enhanced interactive shell that has many features (tab-completion, woot!). It also has a prompt that is numbered.\n",
        "\n",
        "3. Now type:\n",
        "\n",
        "`print('Hello world!')`\n",
        "\n",
        "4. You should see the output on the screen.\n",
        "\n",
        "5. To exit the Python shell type `exit()` and press `Return` key."
      ]
    },
    {
      "cell_type": "markdown",
      "metadata": {
        "id": "KWFKifOq0miJ"
      },
      "source": [
        "### <font color='red'> Scripting </font>\n",
        "\n",
        "---\n",
        "* Real Python programs are made as scripts and look like simple text files. \n",
        "* These files are given extensions `.py`.\n",
        "* You can create text files using whatever text editor you like.\n",
        "* To run the script you need to use the programming language interpreter and specify the name of the created file as an additional parameter:\n",
        "\n",
        "```\n",
        "       %python my_python_file.py\n",
        "```"
      ]
    },
    {
      "cell_type": "markdown",
      "metadata": {
        "id": "ZyluaCcR0miJ"
      },
      "source": [
        "**Sample Session**\n",
        "\n",
        "1. Start a new ASCII/text document named `helloworld.py` and enter the following text:\n",
        "\n",
        "`print('Hello world!')`\n",
        " \n",
        "2. Save the document and then in your terminal/Anaconda prompt, go to the directory containing the newlt created file.\n",
        "\n",
        "\n",
        "3. From the terminal/Anaconda prompt, type:\n",
        "\n",
        "`python helloworld.py`\n",
        "\n",
        "4. You should see the output on the screen."
      ]
    },
    {
      "cell_type": "markdown",
      "metadata": {
        "id": "yoe9HlkQ0miK"
      },
      "source": [
        "### <font color='red'> Jupyter Notebook </font>\n",
        "\n",
        "---\n",
        "* A useful hybrid of the interactive terminal and the self-contained script is the Jupyter notebook, a document format that allows executable code, formatted text, graphics, and even interactive features to be combined into a single document. \n",
        "* Though the notebook began as a Python-only format, it has since been made compatible with a large number of programming languages. \n",
        "* The notebook is useful both as a development environment, and as a means of sharing work via rich computational and data-driven narratives that mix together code, figures, data, and text.\n"
      ]
    },
    {
      "cell_type": "markdown",
      "metadata": {
        "id": "Au_Mwp5j0miK"
      },
      "source": [
        "**Sample Session**\n",
        "\n",
        "1. Open your terminal/Anaconda Prompt and type:\n",
        "\n",
        "`jupyter notebook`\n",
        " \n",
        "2. This directs you to a web browser and you can navigate to an already existing notebook or create one (right side menu New -> Python 3).\n",
        "\n",
        "3. This will open up a new Untitled notebook where you can directly input Python code, Markup formatted text, or have raw text.\n",
        "\n",
        "4. Now type:\n",
        "\n",
        "`print('Hello world!')`\n",
        "\n",
        "5. Press `Shift+Enter`, `Cntrl+Enter` or click `Cells -> Run Cells` or use the `Play` button near the top of the page.\n",
        "\n",
        "6. You should see the output on the screen. \n",
        "\n",
        "7. Exit via closing the browser windows and stopping the server running in the terminal/command prompt (most likely with a Cntrl+C)."
      ]
    },
    {
      "cell_type": "markdown",
      "metadata": {
        "id": "IKckR5Qw0miK"
      },
      "source": [
        "## <font color='red'>Other Ways</font>\n",
        "\n",
        "* [10 Best Python IDE & Code Editors](https://hackr.io/blog/best-python-ide)\n",
        "* [Python IDEs and Code Editors (Guide)](https://realpython.com/python-ides-code-editors-guide/)\n",
        "* [Google Colaboratory](http://colab.research.google.com)\n",
        "* [Binder](http://mybinder.org)\n",
        "* [Microsoft Azure](http://notebooks.azure.com)"
      ]
    },
    {
      "cell_type": "markdown",
      "metadata": {
        "id": "2BO_NRWy0miK"
      },
      "source": [
        "# <font color='blue'>References</font>\n",
        "\n",
        "* [How to Run Python Code](https://jakevdp.github.io/WhirlwindTourOfPython/01-how-to-run-python-code.html)\n",
        "* [How To Run Your Python Scripts](https://www.knowledgehut.com/blog/programming/run-python-scripts)\n",
        "* [Getting Started with Python in Visual Studio Code](https://code.visualstudio.com/docs/python/python-tutorial)\n",
        "* [How to Run a Python Script on Mac](https://www.maketecheasier.com/run-python-script-in-mac/)\n",
        "* [Running Python Scripts from anywhere under Windows](https://correlated.kayako.com/article/40-running-python-scripts-from-anywhere-under-windows)"
      ]
    }
  ],
  "metadata": {
    "celltoolbar": "Slideshow",
    "kernelspec": {
      "display_name": "Python 3 (ipykernel)",
      "language": "python",
      "name": "python3"
    },
    "language_info": {
      "codemirror_mode": {
        "name": "ipython",
        "version": 3
      },
      "file_extension": ".py",
      "mimetype": "text/x-python",
      "name": "python",
      "nbconvert_exporter": "python",
      "pygments_lexer": "ipython3",
      "version": "3.8.2"
    },
    "colab": {
      "provenance": []
    }
  },
  "nbformat": 4,
  "nbformat_minor": 0
}