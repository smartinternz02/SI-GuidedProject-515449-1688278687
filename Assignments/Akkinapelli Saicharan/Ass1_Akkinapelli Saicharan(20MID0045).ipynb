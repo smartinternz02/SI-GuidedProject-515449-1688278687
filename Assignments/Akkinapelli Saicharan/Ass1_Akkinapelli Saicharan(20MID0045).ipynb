{
  "nbformat": 4,
  "nbformat_minor": 0,
  "metadata": {
    "colab": {
      "provenance": []
    },
    "kernelspec": {
      "name": "python3",
      "display_name": "Python 3"
    },
    "language_info": {
      "name": "python"
    }
  },
  "cells": [
    {
      "cell_type": "code",
      "execution_count": 1,
      "metadata": {
        "colab": {
          "base_uri": "https://localhost:8080/"
        },
        "id": "D9hIGB0YP0xL",
        "outputId": "990fdd4e-a678-413e-8fe0-75f8c74f4582"
      },
      "outputs": [
        {
          "output_type": "stream",
          "name": "stdout",
          "text": [
            "               Feature 1  Feature 2  Feature 3  Feature 4\n",
            "Observation 1   0.419075   0.599005   0.641581   0.140426\n",
            "Observation 2   0.392563   0.773871   0.529748   0.152645\n",
            "Observation 3   0.278603   0.926942   0.836191   0.822837\n",
            "Observation 4   0.798528   0.969415   0.686055   0.522455\n"
          ]
        }
      ],
      "source": [
        "import numpy as np\n",
        "import pandas as pd\n",
        "#generatung random values\n",
        "d = np.random.rand(4, 4)\n",
        "# Creating a DataFrame\n",
        "df = pd.DataFrame(d, columns=['Feature 1', 'Feature 2', 'Feature 3', 'Feature 4'], index =['Observation 1','Observation 2','Observation 3','Observation 4'])\n",
        "# Print the DataFrame\n",
        "print(df)"
      ]
    },
    {
      "cell_type": "code",
      "source": [
        "import numpy as np\n",
        "import pandas as pd\n",
        "#Renaming Columns\n",
        "df = df.rename(columns = {'Feature 1' : 'Random Value 1',\n",
        " 'Feature 2' : 'Random Value 2',\n",
        "'Feature 3' : 'Random Value 3',\n",
        "'Feature 4' : 'Random Value 4'})\n",
        "# Print the DataFrame\n",
        "print(df)"
      ],
      "metadata": {
        "colab": {
          "base_uri": "https://localhost:8080/"
        },
        "id": "0gkvLBVCQgeC",
        "outputId": "591d4634-a6b1-4a6d-8dbb-f19769e8090e"
      },
      "execution_count": 2,
      "outputs": [
        {
          "output_type": "stream",
          "name": "stdout",
          "text": [
            "               Random Value 1  Random Value 2  Random Value 3  Random Value 4\n",
            "Observation 1        0.419075        0.599005        0.641581        0.140426\n",
            "Observation 2        0.392563        0.773871        0.529748        0.152645\n",
            "Observation 3        0.278603        0.926942        0.836191        0.822837\n",
            "Observation 4        0.798528        0.969415        0.686055        0.522455\n"
          ]
        }
      ]
    },
    {
      "cell_type": "code",
      "source": [
        "import numpy as np\n",
        "import pandas as pd\n",
        "#To describe the Statistical Description\n",
        "stat = df.describe()\n",
        "# Print the DataFrame\n",
        "print(df)\n",
        "print('\\n')\n",
        "print(stat)"
      ],
      "metadata": {
        "colab": {
          "base_uri": "https://localhost:8080/"
        },
        "id": "ICyyLoHzQjG_",
        "outputId": "e5eefd52-44df-49f8-b65c-d8900b677764"
      },
      "execution_count": 3,
      "outputs": [
        {
          "output_type": "stream",
          "name": "stdout",
          "text": [
            "               Random Value 1  Random Value 2  Random Value 3  Random Value 4\n",
            "Observation 1        0.419075        0.599005        0.641581        0.140426\n",
            "Observation 2        0.392563        0.773871        0.529748        0.152645\n",
            "Observation 3        0.278603        0.926942        0.836191        0.822837\n",
            "Observation 4        0.798528        0.969415        0.686055        0.522455\n",
            "\n",
            "\n",
            "       Random Value 1  Random Value 2  Random Value 3  Random Value 4\n",
            "count        4.000000        4.000000        4.000000        4.000000\n",
            "mean         0.472192        0.817309        0.673394        0.409591\n",
            "std          0.225931        0.168027        0.126898        0.327608\n",
            "min          0.278603        0.599005        0.529748        0.140426\n",
            "25%          0.364073        0.730155        0.613623        0.149590\n",
            "50%          0.405819        0.850407        0.663818        0.337550\n",
            "75%          0.513939        0.937561        0.723589        0.597551\n",
            "max          0.798528        0.969415        0.836191        0.822837\n"
          ]
        }
      ]
    },
    {
      "cell_type": "code",
      "source": [
        "import numpy as np\n",
        "import pandas as pd\n",
        "#Checking NULL values\n",
        "null_val = df.isnull().sum()\n",
        "#Checking the Data types\n",
        "data_type = df.dtypes\n",
        "# Print the DataFrame\n",
        "print(null_val)\n",
        "print('\\n')\n",
        "print(data_type)"
      ],
      "metadata": {
        "colab": {
          "base_uri": "https://localhost:8080/"
        },
        "id": "En9S20NFQmfN",
        "outputId": "dd7a6f7f-5a12-4786-8fb2-9e5be1b7b1d8"
      },
      "execution_count": 4,
      "outputs": [
        {
          "output_type": "stream",
          "name": "stdout",
          "text": [
            "Random Value 1    0\n",
            "Random Value 2    0\n",
            "Random Value 3    0\n",
            "Random Value 4    0\n",
            "dtype: int64\n",
            "\n",
            "\n",
            "Random Value 1    float64\n",
            "Random Value 2    float64\n",
            "Random Value 3    float64\n",
            "Random Value 4    float64\n",
            "dtype: object\n"
          ]
        }
      ]
    },
    {
      "cell_type": "code",
      "source": [
        "import numpy as np\n",
        "import pandas as pd\n",
        "# Display columns using the location method\n",
        "location_method = df[['Random Value 2', 'Random Value 3']]\n",
        "print(\"Columns using location method:\")\n",
        "print(location_method)\n",
        "# Display columns using the index location method\n",
        "index_location_method = df.iloc[:, 1:3]\n",
        "print(\"\\nColumns using index location method :\")\n",
        "print(index_location_method)"
      ],
      "metadata": {
        "colab": {
          "base_uri": "https://localhost:8080/"
        },
        "id": "apKydLblQp0M",
        "outputId": "f8aaf569-8184-4d57-b5df-9f1d4aa717e7"
      },
      "execution_count": 5,
      "outputs": [
        {
          "output_type": "stream",
          "name": "stdout",
          "text": [
            "Columns using location method:\n",
            "               Random Value 2  Random Value 3\n",
            "Observation 1        0.599005        0.641581\n",
            "Observation 2        0.773871        0.529748\n",
            "Observation 3        0.926942        0.836191\n",
            "Observation 4        0.969415        0.686055\n",
            "\n",
            "Columns using index location method :\n",
            "               Random Value 2  Random Value 3\n",
            "Observation 1        0.599005        0.641581\n",
            "Observation 2        0.773871        0.529748\n",
            "Observation 3        0.926942        0.836191\n",
            "Observation 4        0.969415        0.686055\n"
          ]
        }
      ]
    }
  ]
}